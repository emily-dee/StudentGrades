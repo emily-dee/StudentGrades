{
 "cells": [
  {
   "cell_type": "code",
   "execution_count": 72,
   "id": "cb3d49ae-1c75-45b1-9401-b554fa0f9c43",
   "metadata": {},
   "outputs": [],
   "source": [
    "import numpy as np\n",
    "import pandas as pd\n",
    "import statistics as stats"
   ]
  },
  {
   "cell_type": "markdown",
   "id": "2802c2b7-7252-4bdb-a729-4a37a4749614",
   "metadata": {},
   "source": [
    "Question 1: Import grades"
   ]
  },
  {
   "cell_type": "code",
   "execution_count": 41,
   "id": "739745c8-2a07-4c66-a798-adbaff90d7a8",
   "metadata": {},
   "outputs": [
    {
     "data": {
      "text/html": [
       "<div>\n",
       "<style scoped>\n",
       "    .dataframe tbody tr th:only-of-type {\n",
       "        vertical-align: middle;\n",
       "    }\n",
       "\n",
       "    .dataframe tbody tr th {\n",
       "        vertical-align: top;\n",
       "    }\n",
       "\n",
       "    .dataframe thead th {\n",
       "        text-align: right;\n",
       "    }\n",
       "</style>\n",
       "<table border=\"1\" class=\"dataframe\">\n",
       "  <thead>\n",
       "    <tr style=\"text-align: right;\">\n",
       "      <th></th>\n",
       "      <th>Name</th>\n",
       "      <th>Math</th>\n",
       "      <th>Science</th>\n",
       "      <th>Reading</th>\n",
       "      <th>History</th>\n",
       "    </tr>\n",
       "  </thead>\n",
       "  <tbody>\n",
       "    <tr>\n",
       "      <th>0</th>\n",
       "      <td>Adam</td>\n",
       "      <td>11.0</td>\n",
       "      <td>9.0</td>\n",
       "      <td>16.0</td>\n",
       "      <td>13.5</td>\n",
       "    </tr>\n",
       "    <tr>\n",
       "      <th>1</th>\n",
       "      <td>Anna</td>\n",
       "      <td>12.0</td>\n",
       "      <td>11.0</td>\n",
       "      <td>8.5</td>\n",
       "      <td>10.0</td>\n",
       "    </tr>\n",
       "    <tr>\n",
       "      <th>2</th>\n",
       "      <td>James</td>\n",
       "      <td>11.0</td>\n",
       "      <td>18.0</td>\n",
       "      <td>11.5</td>\n",
       "      <td>9.0</td>\n",
       "    </tr>\n",
       "    <tr>\n",
       "      <th>3</th>\n",
       "      <td>Corey</td>\n",
       "      <td>7.0</td>\n",
       "      <td>15.5</td>\n",
       "      <td>11.0</td>\n",
       "      <td>14.0</td>\n",
       "    </tr>\n",
       "    <tr>\n",
       "      <th>4</th>\n",
       "      <td>Alisha</td>\n",
       "      <td>9.5</td>\n",
       "      <td>12.0</td>\n",
       "      <td>10.5</td>\n",
       "      <td>14.0</td>\n",
       "    </tr>\n",
       "    <tr>\n",
       "      <th>5</th>\n",
       "      <td>Jodie</td>\n",
       "      <td>15.0</td>\n",
       "      <td>18.5</td>\n",
       "      <td>7.0</td>\n",
       "      <td>12.0</td>\n",
       "    </tr>\n",
       "    <tr>\n",
       "      <th>6</th>\n",
       "      <td>John</td>\n",
       "      <td>18.0</td>\n",
       "      <td>15.5</td>\n",
       "      <td>11.0</td>\n",
       "      <td>7.5</td>\n",
       "    </tr>\n",
       "  </tbody>\n",
       "</table>\n",
       "</div>"
      ],
      "text/plain": [
       "     Name  Math  Science  Reading  History\n",
       "0    Adam  11.0      9.0     16.0     13.5\n",
       "1    Anna  12.0     11.0      8.5     10.0\n",
       "2   James  11.0     18.0     11.5      9.0\n",
       "3   Corey   7.0     15.5     11.0     14.0\n",
       "4  Alisha   9.5     12.0     10.5     14.0\n",
       "5   Jodie  15.0     18.5      7.0     12.0\n",
       "6    John  18.0     15.5     11.0      7.5"
      ]
     },
     "execution_count": 41,
     "metadata": {},
     "output_type": "execute_result"
    }
   ],
   "source": [
    "grades_df = pd.read_csv('student-data.csv')\n",
    "# grades_array = grades_df.to_numpy()  If i wanted to use the numpy array instead\n",
    "# grades_array\n",
    "grades_df"
   ]
  },
  {
   "cell_type": "markdown",
   "id": "122bb3be-e48f-467f-b55a-361e9761e53e",
   "metadata": {},
   "source": [
    "Question 1.1: Calculate the mean for each individual subject."
   ]
  },
  {
   "cell_type": "code",
   "execution_count": 42,
   "id": "5ea35dec-cd88-4192-b847-da093eaebaf8",
   "metadata": {},
   "outputs": [
    {
     "name": "stdout",
     "output_type": "stream",
     "text": [
      "Math: 11.928571428571429; Science: 14.214285714285714; Reading: 10.785714285714286; History: 11.428571428571429\n"
     ]
    }
   ],
   "source": [
    "math_av = grades_df['Math'].mean()\n",
    "science_av = grades_df['Science'].mean()\n",
    "reading_av = grades_df['Reading'].mean()\n",
    "history_av = grades_df['History'].mean()\n",
    "print(f\"Math: {math_av}; Science: {science_av}; Reading: {reading_av}; History: {history_av}\")"
   ]
  },
  {
   "cell_type": "markdown",
   "id": "5e396adb-cfa2-4218-a8fe-7161abea74f8",
   "metadata": {},
   "source": [
    "Question 1.2: Find the median grade in Math for all students."
   ]
  },
  {
   "cell_type": "code",
   "execution_count": 49,
   "id": "3713e1b7-cb84-40ec-b3b0-e53df4748854",
   "metadata": {},
   "outputs": [
    {
     "data": {
      "text/plain": [
       "11.0"
      ]
     },
     "execution_count": 49,
     "metadata": {},
     "output_type": "execute_result"
    }
   ],
   "source": [
    "grades_df['Math'].median()"
   ]
  },
  {
   "cell_type": "markdown",
   "id": "e1cdf123-4b07-41fa-9ce2-41651e139e34",
   "metadata": {},
   "source": [
    "Question 1.3: Calculate the mode for History."
   ]
  },
  {
   "cell_type": "code",
   "execution_count": 90,
   "id": "53e6175e-e359-435e-84c8-7a23ca60dbc4",
   "metadata": {},
   "outputs": [
    {
     "data": {
      "text/plain": [
       "14.0"
      ]
     },
     "execution_count": 90,
     "metadata": {},
     "output_type": "execute_result"
    }
   ],
   "source": [
    "grades_df['History'].mode().values[0]"
   ]
  },
  {
   "cell_type": "markdown",
   "id": "d7d94567-7267-4e6f-8746-c895b7223f3c",
   "metadata": {},
   "source": [
    "Question 2:\n",
    "Calculate the correlation between the different subjects. What two subjects have the strongest correlation? Answer: Math and science have strongest correlation"
   ]
  },
  {
   "cell_type": "code",
   "execution_count": 61,
   "id": "cb0036a5-d8d5-4c90-b41f-9cfff9fdff9f",
   "metadata": {},
   "outputs": [
    {
     "data": {
      "text/html": [
       "<div>\n",
       "<style scoped>\n",
       "    .dataframe tbody tr th:only-of-type {\n",
       "        vertical-align: middle;\n",
       "    }\n",
       "\n",
       "    .dataframe tbody tr th {\n",
       "        vertical-align: top;\n",
       "    }\n",
       "\n",
       "    .dataframe thead th {\n",
       "        text-align: right;\n",
       "    }\n",
       "</style>\n",
       "<table border=\"1\" class=\"dataframe\">\n",
       "  <thead>\n",
       "    <tr style=\"text-align: right;\">\n",
       "      <th></th>\n",
       "      <th>Math</th>\n",
       "      <th>Science</th>\n",
       "      <th>Reading</th>\n",
       "      <th>History</th>\n",
       "    </tr>\n",
       "  </thead>\n",
       "  <tbody>\n",
       "    <tr>\n",
       "      <th>Math</th>\n",
       "      <td>1.000000</td>\n",
       "      <td>0.269494</td>\n",
       "      <td>-0.268562</td>\n",
       "      <td>-0.718358</td>\n",
       "    </tr>\n",
       "    <tr>\n",
       "      <th>Science</th>\n",
       "      <td>0.269494</td>\n",
       "      <td>1.000000</td>\n",
       "      <td>-0.527606</td>\n",
       "      <td>-0.358688</td>\n",
       "    </tr>\n",
       "    <tr>\n",
       "      <th>Reading</th>\n",
       "      <td>-0.268562</td>\n",
       "      <td>-0.527606</td>\n",
       "      <td>1.000000</td>\n",
       "      <td>0.206794</td>\n",
       "    </tr>\n",
       "    <tr>\n",
       "      <th>History</th>\n",
       "      <td>-0.718358</td>\n",
       "      <td>-0.358688</td>\n",
       "      <td>0.206794</td>\n",
       "      <td>1.000000</td>\n",
       "    </tr>\n",
       "  </tbody>\n",
       "</table>\n",
       "</div>"
      ],
      "text/plain": [
       "             Math   Science   Reading   History\n",
       "Math     1.000000  0.269494 -0.268562 -0.718358\n",
       "Science  0.269494  1.000000 -0.527606 -0.358688\n",
       "Reading -0.268562 -0.527606  1.000000  0.206794\n",
       "History -0.718358 -0.358688  0.206794  1.000000"
      ]
     },
     "execution_count": 61,
     "metadata": {},
     "output_type": "execute_result"
    }
   ],
   "source": [
    "correlation_chart = grades_df.corr(numeric_only=True)\n",
    "correlation_chart"
   ]
  },
  {
   "cell_type": "code",
   "execution_count": 80,
   "id": "82412423-052b-4ed6-9a92-08db34ab453f",
   "metadata": {},
   "outputs": [
    {
     "data": {
      "text/html": [
       "<div>\n",
       "<style scoped>\n",
       "    .dataframe tbody tr th:only-of-type {\n",
       "        vertical-align: middle;\n",
       "    }\n",
       "\n",
       "    .dataframe tbody tr th {\n",
       "        vertical-align: top;\n",
       "    }\n",
       "\n",
       "    .dataframe thead th {\n",
       "        text-align: right;\n",
       "    }\n",
       "</style>\n",
       "<table border=\"1\" class=\"dataframe\">\n",
       "  <thead>\n",
       "    <tr style=\"text-align: right;\">\n",
       "      <th></th>\n",
       "      <th>feature_1</th>\n",
       "      <th>feature_2</th>\n",
       "      <th>corr_coef</th>\n",
       "    </tr>\n",
       "  </thead>\n",
       "  <tbody>\n",
       "    <tr>\n",
       "      <th>0</th>\n",
       "      <td>Math</td>\n",
       "      <td>Science</td>\n",
       "      <td>0.269494</td>\n",
       "    </tr>\n",
       "  </tbody>\n",
       "</table>\n",
       "</div>"
      ],
      "text/plain": [
       "  feature_1 feature_2  corr_coef\n",
       "0      Math   Science   0.269494"
      ]
     },
     "metadata": {},
     "output_type": "display_data"
    }
   ],
   "source": [
    "top_pairs = correlation_chart.unstack().sort_values(ascending=False)\n",
    "unique_pairs = []\n",
    "\n",
    "for pair in top_pairs.index:\n",
    "    if pair[0] != pair[1] and (pair[1], pair[0]) not in unique_pairs:\n",
    "        unique_pairs.append(pair)\n",
    "\n",
    "top_pairs_df = pd.DataFrame(columns=['feature_1', 'feature_2', 'corr_coef'])\n",
    "for i, pair in enumerate(unique_pairs[:n]):\n",
    "    top_pairs_df.loc[i] = [pair[0], pair[1], correlation_chart.loc[pair[0], pair[1]]]\n",
    "\n",
    "display(top_pairs_df)"
   ]
  },
  {
   "cell_type": "markdown",
   "id": "dff46a34-5fe8-4de6-b9a2-9174d7de2bb1",
   "metadata": {},
   "source": [
    "Consider the following numbers representing the grades from the most recent exam in a math class:\n",
    "\n",
    "[24, 5, 15, 60, 54, 82, 99, 80, 70, 98, 93, 60, 33, 22, 65, 61, 51, 58, 83, 86, 42, 67, 60]\n"
   ]
  },
  {
   "cell_type": "code",
   "execution_count": 73,
   "id": "46294864-367e-4c70-af0c-155f51ef70d4",
   "metadata": {},
   "outputs": [],
   "source": [
    "def desc_stats(exam_grades: list):\n",
    "    exam_array = np.array(exam_grades)\n",
    "    # values used more than once\n",
    "    exam_mean = np.mean(exam_array)\n",
    "    exam_min = np.min(exam_array)\n",
    "    exam_max = np.max(exam_array)\n",
    "    exam_var = sum((x - exam_mean) ** 2 for x in exam_array) / len(exam_array)\n",
    "    \n",
    "    print(f\"Mean: {exam_mean}\")\n",
    "    print(f\"Median: {np.median(exam_array)}\")\n",
    "    print(f\"Mode: {stats.mode(exam_array)}\")\n",
    "    print(f\"Minimum: {exam_min}\")\n",
    "    print(f\"Maximum: {exam_max}\")\n",
    "    print(f\"Range: {(exam_max) - (exam_min)}\")\n",
    "    print(f\"Variance: {exam_var}\")\n",
    "    print(f\"Standard deviation: {exam_var ** 0.5}\")"
   ]
  },
  {
   "cell_type": "code",
   "execution_count": 88,
   "id": "acd4d079-f6af-4836-8ab0-3c4d0e03f913",
   "metadata": {},
   "outputs": [
    {
     "name": "stdout",
     "output_type": "stream",
     "text": [
      "Mean: 59.47826086956522\n",
      "Median: 60.0\n",
      "Mode: 60\n",
      "Minimum: 5\n",
      "Maximum: 99\n",
      "Range: 94\n",
      "Variance: 664.162570888469\n",
      "Standard deviation: 25.77135174740489\n"
     ]
    }
   ],
   "source": [
    "student_grades = [24, 5, 15, 60, 54, 82, 99, 80, 70, 98, 93, 60, 33, 22, 65, 61, 51, 58, 83, 86, 42, 67, 60]\n",
    "desc_stats(student_grades)"
   ]
  },
  {
   "cell_type": "markdown",
   "id": "e656e778-8c07-4c12-9231-4a8820e5e502",
   "metadata": {},
   "source": [
    "Extended Challenge:"
   ]
  },
  {
   "cell_type": "markdown",
   "id": "c97b7c65-4941-4fec-8746-4f21d906e9a3",
   "metadata": {},
   "source": [
    "As the professor, I would curve the grades. The Median score is 60, which is a high F. That means that half the students got below an F and half above. A more fair exam would have results evenly distributed between grades (Median around 75). Even though the mean and meadian are so close, meaning there are few if any outliers, you can't fail half the class. "
   ]
  },
  {
   "cell_type": "code",
   "execution_count": null,
   "id": "2413e5ce-1a30-4c57-8a3e-ebc11b1bf8c1",
   "metadata": {},
   "outputs": [],
   "source": []
  }
 ],
 "metadata": {
  "kernelspec": {
   "display_name": "Python 3 (ipykernel)",
   "language": "python",
   "name": "python3"
  },
  "language_info": {
   "codemirror_mode": {
    "name": "ipython",
    "version": 3
   },
   "file_extension": ".py",
   "mimetype": "text/x-python",
   "name": "python",
   "nbconvert_exporter": "python",
   "pygments_lexer": "ipython3",
   "version": "3.11.7"
  }
 },
 "nbformat": 4,
 "nbformat_minor": 5
}
